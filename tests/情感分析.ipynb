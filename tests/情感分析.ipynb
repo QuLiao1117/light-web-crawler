{
 "cells": [
  {
   "cell_type": "code",
   "execution_count": 2,
   "metadata": {},
   "outputs": [],
   "source": [
    "#!/usr/bin/env python\n",
    "# encoding=utf-8\n",
    "import os\n",
    "import pandas as pd\n",
    "import json\n",
    "import re\n",
    "from snownlp import SnowNLP\n",
    "import numpy\n",
    "\n",
    "\n",
    "#构造文件路径\n",
    "filePath = '../docs/comments'\n",
    "location=os.listdir(filePath)\n",
    "filePath=filePath+'/'+\"陕西\"\n",
    "landMark=os.listdir(filePath)\n",
    "filePath=filePath+'/'+\"西安城墙\"\n",
    "\n",
    "#读取json文件\n",
    "jsonFilePath=filePath+'/'+\"西安城墙\"+'各类评论数统计.json'\n",
    "with open(jsonFilePath, 'r', encoding='gbk') as f:\n",
    "    countSummary=json.load(f)\n",
    "#获取评论计数\n",
    "totalOpinionCount=int(countSummary['总评论数'])\n",
    "goodOpinionCount=int(re.findall(r'\\d+',countSummary['好评'])[0])\n",
    "normalOpinionCount=int(re.findall(r'\\d+',countSummary['中评'])[0])\n",
    "badOpinionCount=int(re.findall(r'\\d+',countSummary['差评'])[0])"
   ]
  },
  {
   "cell_type": "code",
   "execution_count": 3,
   "metadata": {},
   "outputs": [],
   "source": [
    "#情感分析函数\n",
    "def analysis_comment(text):\n",
    "    probs=[]\n",
    "    for i in range(len(text)):\n",
    "        content = text[i].replace(u'\\xa0', u' ')\n",
    "        result = SnowNLP(content)\n",
    "        probs.append(result.sentiments)\n",
    "    return probs"
   ]
  },
  {
   "cell_type": "code",
   "execution_count": 9,
   "metadata": {},
   "outputs": [],
   "source": [
    "try:\n",
    "    goodOpinions=pd.read_csv(filePath+'/好评.CSV',index_col=0)\n",
    "    goodComments=goodOpinions[\"评论内容\"]\n",
    "    goodProbs=analysis_comment(goodComments)\n",
    "    goodProbsAvg=numpy.average(goodProbs)\n",
    "except Exception as e:\n",
    "    print(e)\n",
    "    goodProbsAvg=0\n",
    "    pass\n",
    "try:\n",
    "    normalOpinions=pd.read_csv(filePath+'/中评.CSV',index_col=0)\n",
    "    normalComments=normalOpinions[\"评论内容\"]\n",
    "    normalProbs=analysis_comment(normalComments)\n",
    "    normalProbsAvg=numpy.average(normalProbs)\n",
    "except Exception as e:\n",
    "    print(e)\n",
    "    normalProbsAvg=0\n",
    "    pass\n",
    "try:\n",
    "    badOpinions=pd.read_csv(filePath+'/差评.CSV',index_col=0)\n",
    "    badComments=badOpinions[\"评论内容\"]\n",
    "    badProbs=analysis_comment(badComments)\n",
    "    badProbsAvg=numpy.average(badProbs)\n",
    "except Exception as e:\n",
    "    print(e)\n",
    "    badProbsAvg=0\n",
    "    pass\n",
    "\n",
    "#计算公式\n",
    "totalProb=goodProbsAvg*(goodOpinionCount/totalOpinionCount)+normalProbsAvg*(normalOpinionCount/totalOpinionCount)+badProbsAvg*(badOpinionCount/totalOpinionCount)\n"
   ]
  },
  {
   "cell_type": "code",
   "execution_count": 10,
   "metadata": {},
   "outputs": [
    {
     "data": {
      "text/plain": [
       "0.7217185197347171"
      ]
     },
     "execution_count": 10,
     "metadata": {},
     "output_type": "execute_result"
    }
   ],
   "source": [
    "totalProb\n"
   ]
  },
  {
   "cell_type": "code",
   "execution_count": null,
   "metadata": {},
   "outputs": [],
   "source": []
  }
 ],
 "metadata": {
  "kernelspec": {
   "display_name": "Python 3",
   "language": "python",
   "name": "python3"
  },
  "language_info": {
   "codemirror_mode": {
    "name": "ipython",
    "version": 3
   },
   "file_extension": ".py",
   "mimetype": "text/x-python",
   "name": "python",
   "nbconvert_exporter": "python",
   "pygments_lexer": "ipython3",
   "version": "3.7.6"
  }
 },
 "nbformat": 4,
 "nbformat_minor": 2
}
