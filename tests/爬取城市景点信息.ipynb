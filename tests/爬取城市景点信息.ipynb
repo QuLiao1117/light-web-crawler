{
 "cells": [
  {
   "cell_type": "code",
   "execution_count": 52,
   "metadata": {},
   "outputs": [],
   "source": [
    "import json"
   ]
  },
  {
   "cell_type": "code",
   "execution_count": 12,
   "metadata": {},
   "outputs": [],
   "source": [
    "from selenium import webdriver\n",
    "from selenium.webdriver.common.keys import Keys\n",
    "\n",
    "driver = webdriver.Chrome()\n",
    "driver.get(\"https://www.mafengwo.cn/mdd/\")\n",
    "place_name='陕西'"
   ]
  },
  {
   "cell_type": "code",
   "execution_count": 64,
   "metadata": {},
   "outputs": [],
   "source": [
    "dic={}"
   ]
  },
  {
   "cell_type": "code",
   "execution_count": null,
   "metadata": {},
   "outputs": [],
   "source": [
    "driver.find_element_by_class_name('search-input').send_keys(place_name)\n",
    "driver.find_element_by_class_name('search-button').click()\n",
    "driver.find_element_by_link_text('景点').click()\n",
    "link=driver.find_elements_by_class_name('_j_search_link')"
   ]
  },
  {
   "cell_type": "code",
   "execution_count": 15,
   "metadata": {},
   "outputs": [],
   "source": [
    "link=driver.find_elements_by_partial_link_text('景点 -')"
   ]
  },
  {
   "cell_type": "code",
   "execution_count": 22,
   "metadata": {},
   "outputs": [],
   "source": [
    "jingdian=[]\n",
    "for i in link[:5]:\n",
    "    jingdian.append(i.get_attribute('href'))"
   ]
  },
  {
   "cell_type": "code",
   "execution_count": 65,
   "metadata": {},
   "outputs": [],
   "source": [
    "for place in jingdian:\n",
    "    driver.get(place)\n",
    "    title=driver.find_element_by_class_name('title')\n",
    "    place_name=title.text.split('\\n')\n",
    "    dic[place_name[0]]={}\n",
    "    dic[place_name[0]][\"英文名\"]=place_name[1]\n",
    "    address=driver.find_element_by_class_name('sub').text#地址\n",
    "    dic[place_name[0]][\"地址\"]=address\n",
    "    content=driver.find_elements_by_class_name('content')\n",
    "    dic[place_name[0]][\"电话\"]=content[1].text\n",
    "    dic[place_name[0]][\"网址\"]=content[2].text\n",
    "    dic[place_name[0]][\"用时参考\"]=content[3].text\n",
    "    dd=driver.find_elements_by_tag_name('dd')\n",
    "    dic[place_name[0]][\"交通\"]=dd[0].text\n",
    "    dic[place_name[0]][\"门票\"]=dd[1].text\n",
    "    dic[place_name[0]][\"开放时间\"]=dd[1].text"
   ]
  },
  {
   "cell_type": "code",
   "execution_count": 67,
   "metadata": {},
   "outputs": [],
   "source": [
    "json_str = json.dumps(dic)\n",
    "with open('陕西.json', 'w') as json_file:\n",
    "    json_file.write(json_str)"
   ]
  }
 ],
 "metadata": {
  "kernelspec": {
   "display_name": "Python 3",
   "language": "python",
   "name": "python3"
  },
  "language_info": {
   "codemirror_mode": {
    "name": "ipython",
    "version": 3
   },
   "file_extension": ".py",
   "mimetype": "text/x-python",
   "name": "python",
   "nbconvert_exporter": "python",
   "pygments_lexer": "ipython3",
   "version": "3.7.0"
  }
 },
 "nbformat": 4,
 "nbformat_minor": 4
}
